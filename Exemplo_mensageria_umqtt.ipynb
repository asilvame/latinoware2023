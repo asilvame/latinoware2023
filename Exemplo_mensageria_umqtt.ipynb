{
 "cells": [
  {
   "cell_type": "code",
   "execution_count": 45,
   "id": "cb76e4fa-da49-4a2d-8077-5c36bd7ba227",
   "metadata": {},
   "outputs": [
    {
     "name": "stdout",
     "output_type": "stream",
     "text": [
      "\u001b[34mConnecting to --port=/dev/ttyUSB2 --baud=115200 \u001b[0m\n",
      "\u001b[34mReady.\n",
      "\u001b[0m"
     ]
    }
   ],
   "source": [
    "%serialconnect to --port=/dev/ttyUSB2 --baud=115200"
   ]
  },
  {
   "cell_type": "code",
   "execution_count": 40,
   "id": "3c6d7753-c277-420e-9943-d0591078098b",
   "metadata": {},
   "outputs": [
    {
     "name": "stdout",
     "output_type": "stream",
     "text": [
      "\u001b[34m** WebSocket connected **\n",
      "\u001b[0mPassword: \u001b[34mReady.\n",
      "\u001b[0m"
     ]
    }
   ],
   "source": [
    "%websocketconnect --password 123456 ws://192.168.43.241:8266/"
   ]
  },
  {
   "cell_type": "code",
   "execution_count": 34,
   "id": "a8efa6c8-7208-470b-ab34-64a0ba33f4bb",
   "metadata": {},
   "outputs": [],
   "source": [
    "import umqtt\n",
    "from umqtt.simple import MQTTClient\n",
    "#mq = MQTTClient(\"esp8266\",\"192.168.2.150\",1883,\"\",\"\")\n",
    "mq = MQTTClient(\"esp8266\",\"192.168.43.174\",1883,\"\",\"\")\n",
    "#o connect deve retornar 0\n",
    "mq.connect()\n",
    "mq.publish(b\"topico/luz_da_bancada\",b\"1\")"
   ]
  },
  {
   "cell_type": "code",
   "execution_count": 41,
   "id": "8216ea3a-d894-4fce-bbef-764064531ed9",
   "metadata": {},
   "outputs": [
    {
     "name": "stdout",
     "output_type": "stream",
     "text": [
      "('192.168.43.241', '255.255.255.0', '192.168.43.240', '192.168.43.240')\n"
     ]
    }
   ],
   "source": [
    "import network\n",
    "sta_if = network.WLAN(network.STA_IF)\n",
    "sta_if.isconnected()\n",
    "print(sta_if.ifconfig())"
   ]
  },
  {
   "cell_type": "code",
   "execution_count": 46,
   "id": "ef2e96e5-6b79-4653-b064-a40af20d2c78",
   "metadata": {},
   "outputs": [
    {
     "name": "stdout",
     "output_type": "stream",
     "text": [
      "Connected to MQTT  Broker :: 192.168.43.174, and waiting for callback function to be called!\n",
      "....(b'topico/luz_da_bancada', b'1')\n",
      "..(b'topico/luz_da_bancada', b'1')\n",
      "(b'topico/luz_da_bancada', b'2')\n",
      ".(b'topico/luz_da_bancada', b'3')\n",
      ".(b'topico/luz_da_bancada', b'4')\n",
      ".(b'topico/luz_da_bancada', b'1')\n",
      "..Pinging MQTT Broker, last ping :: 2000/1/1 0:9:47\n",
      "............Pinging MQTT Broker, last ping :: 2000/1/1 0:10:47\n",
      "............Pinging MQTT Broker, last ping :: 2000/1/1 0:11:47\n",
      "............Pinging MQTT Broker, last ping :: 2000/1/1 0:12:47\n",
      ".............Pinging MQTT Broker, last ping :: 2000/1/1 0:13:47\n",
      "............Pinging MQTT Broker, last ping :: 2000/1/1 0:14:47\n",
      "............Pinging MQTT Broker, last ping :: 2000/1/1 0:15:47\n",
      "............Pinging MQTT Broker, last ping :: 2000/1/1 0:16:47\n",
      "............Pinging MQTT Broker, last ping :: 2000/1/1 0:17:47\n",
      "............Pinging MQTT Broker, last ping :: 2000/1/1 0:18:47\n",
      "............Pinging MQTT Broker, last ping :: 2000/1/1 0:19:47\n",
      ".....b'sd\\x00$\\xdc\\x9f<\\x00\\x84l\\xe0<\\x03\\x0c'"
     ]
    },
    {
     "name": "stderr",
     "output_type": "stream",
     "text": [
      "b'\\x8c'b'l\\xe4\\x0cc|\\x8f\\x82\\x03\\xec\\x13\\x9br\\x93#\\x8c'b'c\\x84\\xfbgo\\x9fdog\\x9c\\xe2\\xe4'b'c\\x1c8\\xe4\\x87lsd;lp\\xfbg\\xe0\\x10\\x02'b'\\x0c\\x83'l\f",
      "\f",
      "\f",
      "b'c\\x0co\\xe2|\\x03\\xecl$\\x8c\\x8f\\x0c#\\xc4\\xf2no\\xef\\x00$\\x8c\\x8fl \\x03\\x90\\x1b\\x12no'b\"$`\\x03\\x0f\\x03'{\\x8f\\x93\\x9bo\"b'\\x13\\x84\\x9c\\x0flp\\xf3n\\xe0\\x18\\x03'b'\\x0c{\\x8c\\x9c\\x9c\\xe3\\xe0'\f",
      "cb'g\\xe3|\\x03l'b\"\\x8c\\x8e\\x0cc\\xc4\\xf2'o\\xef\\x00\"b\"\\x0cd`\\x02\\x90\\x1b\\x12nod\\xc4l`\\x03\\x07\\x03o;\\xc7\\x9b\\xdb'\"b'\\x0c\\x83#d`\\x03 \\xfbg'b'\\x0c\\x9f\\xe0c\\x83ol\\x84\\x0c\\x84\\xfbgn\\xe7\\x00'b\"\\x87\\x0f$p\\xf2'\\xe0\\x18\\x03\"b'\\x0cs\\x8c\\xdc\\x9c\\xe2\\xe0'b'\\x87\\x1c\\xc0'cb'o\\xe3<\\x03ld\\x8c\\x0c\\x8fc\\x84\\xfbgo\\xee\\x00d\\x8c'b'$`\\x03\\x98\\x13\\x1bgn\\x0cd`\\x02\\x07\\x03gs\\x8e\\xdb\\x93n\\x0c'b'\\x1bl\\x8f\\x0ed\\x0e;\\x93\\x9bg'b'\\x0c\\x13$\\x87\\x0fl\\x8c\\xe3\\x03\\xe4\\x12\\x83o\\xec\\x9br\\x83\\xfbg|\\xec\\x0cd'b'ldl`\\x03\\x1cb\\x93\\x1b\\x03'b'\\x9f|\\x02{\\x92\\x03l\\xdcn\\xe0'b'\\x83o\\xe3\\x00'b'l \\x03\\x8c\\xe2{\\x93l\\xc4l\\x1b\\xc4\\x0c'b'\\x0cd`\\x03\\x84\\xe3;\\x9b$\\xecd\\x12\\x8c'\f",
      "b'$`\\x03\\x8c\\xe3s\\xdbl'b'\\x8f\\x9f\\x00\\x84\\x0c'b'$l \\x03{$\\x8f\\x82sl\\x8c\\x9f\\xe3\\x84c'b'\\x8c\\x84c\\x1c<'b\"l#\\x9c\\xe3\\xdc\\x03c|\\x90\\xc4\\x8c\\x84\\x0cl$c\\xe4\\xfbg\\xe7\\x80\\x1b'o\\xe2\\x18\\x03\\x0c\\x03\\xc4d'\\x9f\\x0c\\xe4\\x0c\\x84\"b'l\\xe4\\x87l$\\x8c'b'\\x8f\\x8c'b'\\x0cd`\\x03\\x80\\x03o\\xfc\\x00\\xc4\\x9f\\xe3\\x8c#\\x0cdl\\xe4\\xc4\\x87\\x1b\\x0cc'b'\\x02\\x03\\xc4\\xdf\\xe3\\x8c#'b'$\\x0c\\x84c\\x1c;l{l{\\xf3n\\x9c\\xe3\\x00\\xc4\\x0c\\xe4\\xc3\\x13\\x03c\\x1c\\x0e#\\xec\\x8f8\\xe4\\x84\\xe3b\\x84l\\x8c'b'\\xec\\x84\\xe4\\xc7\\x9c$\\x00\\xe4c\\xec\\xfbo\\xdc\\x9f\\x80\\x80\\x03c\\x1c\\x1bc\\xec\\xc7x\\xec\\x8c\\xe3#\\x8c$\\x8c'b'\\xe4\\x8c\\xe4\\x87\\xdc\\xcaconnecting to network...\\r\\n'"
     ]
    },
    {
     "name": "stdout",
     "output_type": "stream",
     "text": [
      "."
     ]
    },
    {
     "name": "stderr",
     "output_type": "stream",
     "text": [
      "network config: ('192.168.253.149', '255.255.255.0', '192.168.253.46', '192.168.253.46')\n",
      "WebREPL server started on http://192.168.4.1:8266/\n",
      "WebREPL server started on http://192.168.253.149:8266/\n",
      "Started webrepl in normal mode\n",
      "\n",
      "MicroPython v1.21.0 on 2023-10-05; ESP module with ESP8266\n",
      "Type \"help()\" for more information.\n"
     ]
    },
    {
     "name": "stdout",
     "output_type": "stream",
     "text": [
      "[too many x04s 49]"
     ]
    }
   ],
   "source": [
    "import time\n",
    "import ubinascii\n",
    "from umqtt.simple import MQTTClient\n",
    "import machine\n",
    "\n",
    "# Default MQTT MQTT_BROKER to connect to\n",
    "MQTT_BROKER = \"192.168.43.174\"\n",
    "CLIENT_ID = ubinascii.hexlify(machine.unique_id())\n",
    "TOPIC = b\"topico/luz_da_bancada\"\n",
    "\n",
    "# Ping the MQTT broker since we are not publishing any message\n",
    "last_ping = time.time()\n",
    "ping_interval = 60\n",
    "\n",
    "# Received messages from subscriptions will be delivered to this callback\n",
    "def sub_cb(topic, msg):\n",
    "    print((topic, msg))\n",
    "\n",
    "\n",
    "def reset():\n",
    "    print(\"Resetting...\")\n",
    "    time.sleep(5)\n",
    "    machine.reset()\n",
    "    \n",
    "def main():\n",
    "    mqttClient = MQTTClient(CLIENT_ID, MQTT_BROKER, keepalive=60)\n",
    "    mqttClient.set_callback(sub_cb)\n",
    "    mqttClient.connect()\n",
    "    mqttClient.subscribe(TOPIC)\n",
    "    print(f\"Connected to MQTT  Broker :: {MQTT_BROKER}, and waiting for callback function to be called!\")\n",
    "    while True:\n",
    "        if False:\n",
    "            # Blocking wait for message\n",
    "            mqttClient.wait_msg()\n",
    "        else:\n",
    "            # Non-blocking wait for message\n",
    "            mqttClient.check_msg()\n",
    "            # Then need to sleep to avoid 100% CPU usage (in a real\n",
    "            # app other useful actions would be performed instead)\n",
    "            global last_ping\n",
    "            if (time.time() - last_ping) >= ping_interval:\n",
    "                mqttClient.ping()\n",
    "                last_ping = time.time()\n",
    "                now = time.localtime()\n",
    "                print(f\"Pinging MQTT Broker, last ping :: {now[0]}/{now[1]}/{now[2]} {now[3]}:{now[4]}:{now[5]}\")\n",
    "            time.sleep(1)\n",
    "            \n",
    "    print(\"Disconnecting...\")\n",
    "    mqttClient.disconnect()\n",
    "\n",
    "\n",
    "if __name__ == \"__main__\":\n",
    "    try:\n",
    "        main()\n",
    "    except OSError as e:\n",
    "        print(\"Error: \" + str(e))\n",
    "        reset()"
   ]
  },
  {
   "cell_type": "code",
   "execution_count": 43,
   "id": "b36235d1-d62b-4b0f-8bbd-578c2aa4c6b1",
   "metadata": {},
   "outputs": [
    {
     "name": "stdout",
     "output_type": "stream",
     "text": [
      "\u001b[34mattempt to exit paste mode\n",
      "\u001b[0m\u001b[34m[\\r\\x03\\x02] \u001b[0m\n",
      "MicroPython v1.9.4-8-ga9a3caad0 on 2018-05-11; ESP module with ESP8266\n",
      "Type \"help()\" for more information.\n",
      ">>> \u001b[34m\n",
      "Closing websocket <websocket._core.WebSocket object at 0x7f0055d60640>\n",
      "\u001b[0m"
     ]
    }
   ],
   "source": [
    "%disconnect"
   ]
  },
  {
   "cell_type": "code",
   "execution_count": null,
   "id": "a537ac9d-7a58-4600-a943-21f1ab8d86dc",
   "metadata": {},
   "outputs": [],
   "source": []
  }
 ],
 "metadata": {
  "kernelspec": {
   "display_name": "MicroPython - USB",
   "language": "micropython",
   "name": "micropython"
  },
  "language_info": {
   "codemirror_mode": "python",
   "file_extension": ".py",
   "mimetype": "text/python",
   "name": "micropython"
  }
 },
 "nbformat": 4,
 "nbformat_minor": 5
}
