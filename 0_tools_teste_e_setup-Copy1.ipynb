{
 "cells": [
  {
   "cell_type": "code",
   "execution_count": 35,
   "id": "41543afe-4083-4d3e-a79c-97ef6005b7c5",
   "metadata": {},
   "outputs": [
    {
     "name": "stdout",
     "output_type": "stream",
     "text": [
      "\u001b[34mConnecting to --port=/dev/ttyUSB2 --baud=115200 \u001b[0m\n",
      "\u001b[34mReady.\n",
      "\u001b[0m"
     ]
    }
   ],
   "source": [
    "%serialconnect to --port=/dev/ttyUSB2 --baud=115200"
   ]
  },
  {
   "cell_type": "code",
   "execution_count": 36,
   "id": "99541e89-f0e2-479e-b1cc-d9714d82497f",
   "metadata": {},
   "outputs": [
    {
     "name": "stdout",
     "output_type": "stream",
     "text": [
      "Inicio da configuração inicial para a Oficina\n"
     ]
    }
   ],
   "source": [
    "print(\"Inicio da configuração inicial para a Oficina\")"
   ]
  },
  {
   "cell_type": "code",
   "execution_count": 37,
   "id": "de1bfbfe-7588-43c0-94eb-f87b51f8bd88",
   "metadata": {},
   "outputs": [
    {
     "name": "stdout",
     "output_type": "stream",
     "text": [
      "Confere a configuração do boot.py\n"
     ]
    }
   ],
   "source": [
    "print(\"Confere a configuração do boot.py\")"
   ]
  },
  {
   "cell_type": "code",
   "execution_count": 38,
   "id": "ef236e90-8b5d-41c7-82b1-ffeaeb2c834c",
   "metadata": {},
   "outputs": [
    {
     "name": "stdout",
     "output_type": "stream",
     "text": [
      "# This file is executed on every boot (including wake-boot from deepsleep)\n",
      "#import esp\n",
      "#esp.osdebug(None)\n",
      "import gc\n",
      "import net\n",
      "#import robo_web\n",
      "net.do_connect()\n",
      "#robo_web.main()\n",
      "gc.collect()\n"
     ]
    }
   ],
   "source": [
    "f = open(\"boot.py\")\n",
    "print(f.read())\n",
    "f.close()"
   ]
  },
  {
   "cell_type": "code",
   "execution_count": 39,
   "id": "622fb17e-31bf-46ed-a12d-d5990bd8aff1",
   "metadata": {},
   "outputs": [
    {
     "name": "stdout",
     "output_type": "stream",
     "text": [
      "Gerar arquivo de configuração para Webrepl\n"
     ]
    }
   ],
   "source": [
    "print(\"Gerar arquivo de configuração para Webrepl\")"
   ]
  },
  {
   "cell_type": "code",
   "execution_count": 40,
   "id": "9d2e1c36-a180-4cf0-81eb-a3ba5464f8a6",
   "metadata": {},
   "outputs": [
    {
     "name": "stdout",
     "output_type": "stream",
     "text": [
      "Sent 1 lines (15 bytes) to webrepl_cfg.py.\n"
     ]
    }
   ],
   "source": [
    "%sendtofile webrepl_cfg.py\n",
    "PASS = '123456'"
   ]
  },
  {
   "cell_type": "code",
   "execution_count": 41,
   "id": "cda85638-c65e-4787-a6d0-452c4ad4eb53",
   "metadata": {},
   "outputs": [
    {
     "name": "stdout",
     "output_type": "stream",
     "text": [
      "Gerar arquivo de configuração conexão WIFI\n"
     ]
    }
   ],
   "source": [
    "print(\"Gerar arquivo de configuração conexão WIFI\")"
   ]
  },
  {
   "cell_type": "code",
   "execution_count": 42,
   "id": "95ac9adc-3e12-4632-a7bf-1e83030b1caa",
   "metadata": {},
   "outputs": [
    {
     "name": "stdout",
     "output_type": "stream",
     "text": [
      "Sent 2 lines (40 bytes) to net_cfg.py.\n"
     ]
    }
   ],
   "source": [
    "%sendtofile net_cfg.py\n",
    "SSID = 'MESQUITA'\n",
    "PASSWD = '@ndre102030'"
   ]
  },
  {
   "cell_type": "code",
   "execution_count": 43,
   "id": "2df549c2-cc24-4cf2-aecb-525b108df2de",
   "metadata": {},
   "outputs": [
    {
     "name": "stdout",
     "output_type": "stream",
     "text": [
      "Gerar novo boot.py\n"
     ]
    }
   ],
   "source": [
    "print(\"Gerar novo boot.py\")"
   ]
  },
  {
   "cell_type": "code",
   "execution_count": 44,
   "id": "d5aaf0ae-5fed-47a4-a775-dbbb94b040bd",
   "metadata": {},
   "outputs": [
    {
     "name": "stdout",
     "output_type": "stream",
     "text": [
      "Sent 29 lines (851 bytes) to boot.py.\n"
     ]
    }
   ],
   "source": [
    "%sendtofile boot.py\n",
    "# This file is executed on every boot (including wake-boot from deepsleep)\n",
    "import gc\n",
    "import net_cfg as net\n",
    "def do_connect(SSID,PASSWD):\n",
    "    import network\n",
    "    sta_if = network.WLAN(network.STA_IF)\n",
    "    if not sta_if.isconnected():\n",
    "        print('connecting to network...')\n",
    "        sta_if.active(True)\n",
    "        sta_if.connect(SSID,PASSWD)\n",
    "        while not sta_if.isconnected():\n",
    "            pass\n",
    "    print('network config:', sta_if.ifconfig())\n",
    "    import machine\n",
    "    import time\n",
    "    D1 = machine.Pin(5,machine.Pin.OUT)\n",
    "    D2 = machine.Pin(4,machine.Pin.OUT)\n",
    "    from machine import Pin, I2C\n",
    "    import ssd1306\n",
    "    i2c = I2C(sda=D2, scl=D1)\n",
    "    display = ssd1306.SSD1306_I2C(128, 64, i2c)\n",
    "    display.poweron()\n",
    "    display.text(sta_if.ifconfig()[0], 0, 0, 1)\n",
    "    display.show()\n",
    "\n",
    "do_connect(net.SSID,net.PASSWD)\n",
    "import webrepl\n",
    "webrepl.start()\n",
    "gc.collect()"
   ]
  },
  {
   "cell_type": "code",
   "execution_count": 45,
   "id": "deb9255a-f060-4891-b9c3-6cc44aa902e4",
   "metadata": {},
   "outputs": [
    {
     "name": "stdout",
     "output_type": "stream",
     "text": [
      "WebREPL daemon started on ws://192.168.4.1:8266\n",
      "WebREPL daemon started on ws://0.0.0.0:8266\n",
      "Started webrepl in normal mode\n"
     ]
    }
   ],
   "source": [
    "import webrepl\n",
    "webrepl.start()"
   ]
  },
  {
   "cell_type": "code",
   "execution_count": 46,
   "id": "23ebee58-5e01-494d-862c-99176248c4bd",
   "metadata": {},
   "outputs": [
    {
     "name": "stdout",
     "output_type": "stream",
     "text": [
      "0.0.0.0\n"
     ]
    }
   ],
   "source": [
    "import network\n",
    "sta_if = network.WLAN(network.STA_IF)\n",
    "sta_if.isconnected()\n",
    "print(sta_if.ifconfig()[0])"
   ]
  },
  {
   "cell_type": "code",
   "execution_count": 48,
   "id": "b18a6045-701e-4ca0-9117-8cdb126df24a",
   "metadata": {},
   "outputs": [
    {
     "name": "stdout",
     "output_type": "stream",
     "text": [
      "repl is in normal command mode\n",
      "[\\r\\x03\\x03] b'\\r\\nMicroPython v1.9.4-8-ga9a3caad0 on 2018-05-11; ESP module with ESP8266\\r\\nType \"help()\" for more information.\\r\\n>>> \\r\\n>>> \\r\\nPYB: sof#7 ets_task(40100130, 3, 3fff83ec, 4)\\r\\nconnecting to network...\\r\\nTraceback (most recent call last):\\r\\n  File \"boot.py\", line 26, in <module>\\r\\n  File \"boot.py\", line 12, in do_connect\\r\\nKeyboardInterrupt: \\r\\nOSError: [Errno 2] ENOENT\\r\\nMicroPython v1.9.4-8-ga9a3caad0 on 2018-05-11; ESP module with ESP8266\\r\\nType \"help()\" for more information.\\r\\n>>> \\r\\n>>> '\n",
      "[\\r\\x01] b'\\r\\n>>> \\r\\nraw REPL; CTRL-B to exit\\r\\n>'"
     ]
    }
   ],
   "source": [
    "%rebootdevice"
   ]
  },
  {
   "cell_type": "code",
   "execution_count": 34,
   "id": "0bf922c8-78e2-4733-88db-ebf9306448c7",
   "metadata": {},
   "outputs": [
    {
     "name": "stdout",
     "output_type": "stream",
     "text": [
      "\u001b[34mattempt to exit paste mode\n",
      "\u001b[0m\u001b[34m[\\r\\x03\\x02] \u001b[0mb'\\r\\nMicroPython v1.9.4-8-ga9a3caad0 on 2018-05-11; ESP module with ESP8266\\r\\nType \"help()\" for more information.\\r\\n>>> '\u001b[34m\n",
      "Closing serial Serial<id=0x7f8cb9e5cbe0, open=True>(port='/dev/ttyUSB2', baudrate=115200, bytesize=8, parity='N', stopbits=1, timeout=0.5, xonxoff=False, rtscts=False, dsrdtr=False)\n",
      "\u001b[0m"
     ]
    }
   ],
   "source": [
    "%disconnect"
   ]
  },
  {
   "cell_type": "code",
   "execution_count": 49,
   "id": "a711a5e7-82a7-4d09-a311-2a2e04464925",
   "metadata": {},
   "outputs": [
    {
     "name": "stdout",
     "output_type": "stream",
     "text": [
      "\u001b[34mConnecting to --port=/dev/ttyUSB2 --baud=115200 \u001b[0m\n",
      "\u001b[34mReady.\n",
      "\u001b[0m"
     ]
    }
   ],
   "source": [
    "%serialconnect to --port=/dev/ttyUSB2 --baud=115200"
   ]
  },
  {
   "cell_type": "code",
   "execution_count": 50,
   "id": "670ec890-b846-4420-9365-dfd74b007284",
   "metadata": {},
   "outputs": [
    {
     "name": "stdout",
     "output_type": "stream",
     "text": [
      "('192.168.2.189', '255.255.255.0', '192.168.2.1', '192.168.2.1')\n"
     ]
    }
   ],
   "source": [
    "import network\n",
    "sta_if = network.WLAN(network.STA_IF)\n",
    "sta_if.isconnected()\n",
    "print(sta_if.ifconfig())"
   ]
  },
  {
   "cell_type": "code",
   "execution_count": 45,
   "id": "79f8377a-47bd-4cb9-94db-15d3df93f8b4",
   "metadata": {},
   "outputs": [
    {
     "name": "stdout",
     "output_type": "stream",
     "text": [
      "\u001b[34mattempt to exit paste mode\n",
      "\u001b[0m\u001b[34m[\\r\\x03\\x02] \u001b[0mb'\\r\\nMicroPython v1.14 on 2021-02-02; ESP module with ESP8266\\r\\nType \"help()\" for more information.\\r\\n>>> '\u001b[34m\n",
      "Closing serial Serial<id=0x7fa05a4afbb0, open=True>(port='/dev/ttyUSB2', baudrate=115200, bytesize=8, parity='N', stopbits=1, timeout=0.5, xonxoff=False, rtscts=False, dsrdtr=False)\n",
      "\u001b[0m"
     ]
    }
   ],
   "source": [
    "%disconnect"
   ]
  },
  {
   "cell_type": "code",
   "execution_count": 9,
   "id": "a8adac26-3c74-440f-ad4c-958ee2f7a93d",
   "metadata": {},
   "outputs": [],
   "source": [
    "import sys\n",
    "sys.path.reverse()"
   ]
  },
  {
   "cell_type": "code",
   "execution_count": 19,
   "id": "01ec828d-a3fd-4f02-b2be-3d8bd2484a37",
   "metadata": {},
   "outputs": [
    {
     "name": "stdout",
     "output_type": "stream",
     "text": [
      "Installing to: /lib/\n",
      "Warning: pypi.org SSL certificate is not validated\n",
      "Error installing 'micropython-umqtt.simple2': memory allocation failed, allocating 10040 bytes, packages may be partially installed\n"
     ]
    }
   ],
   "source": [
    "import upip\n",
    "upip.install(\"micropython-umqtt.simple2\")"
   ]
  },
  {
   "cell_type": "code",
   "execution_count": 20,
   "id": "71368395-ba8d-4d33-99b1-e81aeb9a5853",
   "metadata": {},
   "outputs": [
    {
     "name": "stdout",
     "output_type": "stream",
     "text": [
      "serial exception on close write failed: [Errno 5] Input/output error\n",
      "\u001b[34m\n",
      "Closing serial Serial<id=0x7fa05a35cac0, open=True>(port='/dev/ttyUSB2', baudrate=115200, bytesize=8, parity='N', stopbits=1, timeout=0.5, xonxoff=False, rtscts=False, dsrdtr=False)\n",
      "\u001b[0m"
     ]
    }
   ],
   "source": [
    "%disconnect"
   ]
  },
  {
   "cell_type": "code",
   "execution_count": 21,
   "id": "9aa7b4bb-6200-4961-926e-7fb8aa80e15f",
   "metadata": {},
   "outputs": [
    {
     "name": "stdout",
     "output_type": "stream",
     "text": [
      "\u001b[34m** WebSocket connected **\n",
      "\u001b[0mPassword: \n",
      "WebREPL connected\n",
      ">>> \u001b[34mReady.\n",
      "\u001b[0m"
     ]
    }
   ],
   "source": [
    "%websocketconnect --password 123456 ws://192.168.2.161:8266/"
   ]
  },
  {
   "cell_type": "code",
   "execution_count": 5,
   "id": "d5628429-f72a-4547-8e90-0661539279d1",
   "metadata": {},
   "outputs": [],
   "source": [
    "import umqtt\n"
   ]
  },
  {
   "cell_type": "code",
   "execution_count": 6,
   "id": "9507d767-0986-4069-a011-c66f0049a381",
   "metadata": {},
   "outputs": [],
   "source": [
    "from umqtt.simple import MQTTClient\n"
   ]
  },
  {
   "cell_type": "code",
   "execution_count": 12,
   "id": "33963c97-1666-4938-874f-68407e0e8267",
   "metadata": {},
   "outputs": [
    {
     "name": "stdout",
     "output_type": "stream",
     "text": [
      "."
     ]
    },
    {
     "name": "stderr",
     "output_type": "stream",
     "text": [
      "Traceback (most recent call last):\n",
      "  File \"<stdin>\", line 3, in <module>\n",
      "  File \"umqtt/simple.py\", line 68, in connect\n",
      "OSError: [Errno 103] ECONNABORTED\n"
     ]
    }
   ],
   "source": [
    "mq = MQTTClient(\"esp8266\",\"climaduino.monitoracerrado.org\",8883,\"\",\"\")\n",
    "#o connect deve retornar 0\n",
    "mq.connect()\n",
    "mq.publish(b\"topico/luz_da_bancada\",b\"1\")"
   ]
  },
  {
   "cell_type": "code",
   "execution_count": 27,
   "id": "71ade52d-e454-4865-9899-53512ebd2265",
   "metadata": {},
   "outputs": [
    {
     "name": "stdout",
     "output_type": "stream",
     "text": [
      "connecting to network...\n",
      "network config: ('192.168.2.103', '255.255.255.0', '192.168.2.1', '192.168.2.1')\n"
     ]
    }
   ],
   "source": [
    "def do_connect(SSID,PASSWD):\n",
    "    import network\n",
    "    sta_if = network.WLAN(network.STA_IF)\n",
    "    if not sta_if.isconnected():\n",
    "        print('connecting to network...')\n",
    "        sta_if.active(True)\n",
    "        sta_if.connect(SSID,PASSWD)\n",
    "        while not sta_if.isconnected():\n",
    "            pass\n",
    "    print('network config:', sta_if.ifconfig())\n",
    "\n",
    "do_connect(net.SSID,net.PASSWD)"
   ]
  },
  {
   "cell_type": "code",
   "execution_count": 2,
   "id": "8484bac6-632e-4782-bf28-10839a7a1395",
   "metadata": {},
   "outputs": [
    {
     "name": "stdout",
     "output_type": "stream",
     "text": [
      "b'[ {\"_id\": {\"$oid\": \"65267f4596e3c7523c50f904\"}, \"Sensor\": \"tasmota_9E2FB3\", \"Dados\": {\"Time\": \"2023-10-11T11:56:01\", \"ENERGY\": {\"TotalStartTime\": \"2023-01-16T02:56:56\", \"Total\": 66.85, \"Yesterday\": 0.229, \"Today\": 0.286, \"Period\": 0, \"Power\": 27, \"ApparentPower\": 32, \"ReactivePower\": 17, \"Factor\": 0.85, \"Voltage\": 218, \"Current\": 0.145}}}]'\n"
     ]
    }
   ],
   "source": [
    "import urequests\n",
    "url=\"https://onesait.community.o2br.com/api-manager/server/api/v1/EnergyAPI/65267f4596e3c7523c50f904\"\n",
    "response = urequests.get(url , headers={'accept': 'application/json','X-OP-APIKey':'2a083fa1f64749d39dc6d1e7f5eaa656'})\n",
    "print(response.content)\n"
   ]
  },
  {
   "cell_type": "code",
   "execution_count": 22,
   "id": "4b24c094-01c5-4ded-ae95-e690098c1b84",
   "metadata": {},
   "outputs": [],
   "source": [
    "import os"
   ]
  },
  {
   "cell_type": "code",
   "execution_count": 23,
   "id": "a6a41b44-10cd-47ad-8292-577fc1512837",
   "metadata": {},
   "outputs": [
    {
     "name": "stdout",
     "output_type": "stream",
     "text": [
      "['boot.py', 'netutil.py', 'webrepl_cfg.py', 'net_cfg.py']\n"
     ]
    }
   ],
   "source": [
    "print(os.listdir())"
   ]
  },
  {
   "cell_type": "code",
   "execution_count": 33,
   "id": "a24fe597-b604-43ff-b34b-49ef345b58c5",
   "metadata": {},
   "outputs": [
    {
     "name": "stdout",
     "output_type": "stream",
     "text": [
      "WebREPL server started on http://192.168.4.1:8266/\n",
      "WebREPL server started on http://192.168.2.103:8266/\n",
      "Started webrepl in normal mode\n"
     ]
    }
   ],
   "source": [
    "import webrepl\n",
    "webrepl.start()"
   ]
  },
  {
   "cell_type": "code",
   "execution_count": 18,
   "id": "e511721c-3373-446b-afc2-2d06f31b9f39",
   "metadata": {},
   "outputs": [
    {
     "name": "stdout",
     "output_type": "stream",
     "text": [
      "\u001b[34m** WebSocket connected **\n",
      "\u001b[0mPassword: \u001b[34mReady.\n",
      "\u001b[0m"
     ]
    }
   ],
   "source": [
    "%websocketconnect --password 123456 ws://192.168.2.103:8266/"
   ]
  },
  {
   "cell_type": "code",
   "execution_count": 19,
   "id": "177ea218-fca5-4cfd-a9de-e3414ef5d9e7",
   "metadata": {},
   "outputs": [],
   "source": [
    "import os"
   ]
  },
  {
   "cell_type": "code",
   "execution_count": 20,
   "id": "72c120e4-dbfc-44ba-aca4-136990df9a39",
   "metadata": {},
   "outputs": [
    {
     "name": "stdout",
     "output_type": "stream",
     "text": [
      "['umqtt', 'urequests.py']\n"
     ]
    }
   ],
   "source": [
    "print(os.listdir(\"lib\"))"
   ]
  },
  {
   "cell_type": "code",
   "execution_count": 13,
   "id": "f80dd91a-0ee1-40f4-9fa3-46874878ad9d",
   "metadata": {},
   "outputs": [
    {
     "name": "stderr",
     "output_type": "stream",
     "text": [
      "Traceback (most recent call last):\n",
      "  File \"<stdin>\", line 6, in <module>\n",
      "  File \"umqtt/simple.py\", line 68, in connect\n",
      "OSError: [Errno 104] ECONNRESET\n"
     ]
    }
   ],
   "source": [
    "from umqtt.simple import MQTTClient\n",
    "\n",
    "# Test reception e.g. with:\n",
    "# mosquitto_sub -t foo_topic\n",
    "c = MQTTClient(\"umqtt_client\", \"iothub02.onesaitplatform.o2br.com\",8883,\"\",\"\")\n",
    "c.connect()\n",
    "c.publish(b\"foo_topic\", b\"hello\")\n",
    "c.disconnect()\n"
   ]
  },
  {
   "cell_type": "code",
   "execution_count": 15,
   "id": "4f5297ca-3f4e-4875-ab45-894c96cd28f0",
   "metadata": {},
   "outputs": [
    {
     "name": "stderr",
     "output_type": "stream",
     "text": [
      "Traceback (most recent call last):\n",
      "  File \"<stdin>\", line 13, in <module>\n",
      "  File \"umqtt/simple.py\", line 68, in connect\n",
      "OSError: [Errno 104] ECONNRESET\n"
     ]
    }
   ],
   "source": [
    "import time\n",
    "from umqtt.robust import MQTTClient\n",
    "\n",
    "\n",
    "def sub_cb(topic, msg):\n",
    "    print((topic, msg))\n",
    "\n",
    "\n",
    "c = MQTTClient(\"umqtt_client\", \"iothub02.onesaitplatform.o2br.com\")\n",
    "# Print diagnostic messages when retries/reconnects happens\n",
    "c.DEBUG = True\n",
    "c.set_callback(sub_cb)\n",
    "if not c.connect(clean_session=False):\n",
    "    print(\"New session being set up\")\n",
    "    c.subscribe(b\"foo_topic\")\n",
    "\n",
    "while 1:\n",
    "    c.wait_msg()\n",
    "\n",
    "c.disconnect()\n"
   ]
  },
  {
   "cell_type": "code",
   "execution_count": null,
   "id": "0ee53b2f-8b00-442c-bdfd-817b44445410",
   "metadata": {},
   "outputs": [],
   "source": []
  }
 ],
 "metadata": {
  "kernelspec": {
   "display_name": "MicroPython - USB",
   "language": "micropython",
   "name": "micropython"
  },
  "language_info": {
   "codemirror_mode": "python",
   "file_extension": ".py",
   "mimetype": "text/python",
   "name": "micropython"
  }
 },
 "nbformat": 4,
 "nbformat_minor": 5
}
