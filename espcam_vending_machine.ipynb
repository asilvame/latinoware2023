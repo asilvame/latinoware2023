{
 "cells": [
  {
   "cell_type": "markdown",
   "id": "c549ccaa",
   "metadata": {},
   "source": [
    "https://lastminuteengineers.com/esp32-cam-pinout-reference/"
   ]
  },
  {
   "cell_type": "code",
   "execution_count": null,
   "id": "7260c832-a402-41c2-b6f4-f9c71d1e052e",
   "metadata": {},
   "outputs": [],
   "source": [
    "%serialconnect to --port=/dev/ttyUSB0 --baud=115200"
   ]
  },
  {
   "cell_type": "code",
   "execution_count": 4,
   "id": "a80cd7ee-59a3-41c6-b755-19e652d80f34",
   "metadata": {},
   "outputs": [],
   "source": [
    "from machine import Pin, Timer\n",
    "import time"
   ]
  },
  {
   "cell_type": "code",
   "execution_count": 14,
   "id": "26f79cb5-1c08-4de3-8ac6-cccd56151970",
   "metadata": {},
   "outputs": [],
   "source": []
  },
  {
   "cell_type": "code",
   "execution_count": 18,
   "id": "4ce42486-aa9b-4da1-998b-31f2ac656d41",
   "metadata": {},
   "outputs": [],
   "source": [
    "pintest = Pin(12,Pin.OUT)\n",
    "pintest.on()\n",
    "time.sleep(1)\n",
    "pintest.off()"
   ]
  },
  {
   "cell_type": "code",
   "execution_count": 19,
   "id": "05097e0e-f2dc-43f3-967d-2073b902d524",
   "metadata": {},
   "outputs": [],
   "source": [
    "pintest = Pin(13,Pin.OUT)\n",
    "pintest.on()\n",
    "time.sleep(1)\n",
    "pintest.off()"
   ]
  },
  {
   "cell_type": "code",
   "execution_count": 20,
   "id": "c4029f49-3c7e-4608-a2b2-d73826b441cc",
   "metadata": {},
   "outputs": [
    {
     "name": "stdout",
     "output_type": "stream",
     "text": [
      "."
     ]
    }
   ],
   "source": [
    "pintest = Pin(14,Pin.OUT)\n",
    "pintest.on()\n",
    "time.sleep(1)\n",
    "pintest.off()"
   ]
  },
  {
   "cell_type": "code",
   "execution_count": 21,
   "id": "1f85bfe0-f818-435e-81f5-ac9c76e04fb4",
   "metadata": {},
   "outputs": [],
   "source": [
    "pintest = Pin(15,Pin.OUT)\n",
    "pintest.on()\n",
    "time.sleep(1)\n",
    "pintest.off()"
   ]
  },
  {
   "cell_type": "code",
   "execution_count": 22,
   "id": "6bd7b0fc-fbbe-4f50-8448-c3266601cbd6",
   "metadata": {},
   "outputs": [],
   "source": [
    "#Porta\n",
    "pintest = Pin(2,Pin.OUT)\n",
    "pintest.on()\n",
    "time.sleep(1)\n",
    "pintest.off()"
   ]
  },
  {
   "cell_type": "code",
   "execution_count": 23,
   "id": "35846858-c827-4cfe-ba33-3d78f2a457ad",
   "metadata": {},
   "outputs": [],
   "source": [
    "#Bau\n",
    "pintest = Pin(4,Pin.OUT)\n",
    "pintest.on()\n",
    "time.sleep(1)\n",
    "pintest.off()"
   ]
  },
  {
   "cell_type": "code",
   "execution_count": null,
   "id": "8a7faee9-1b0e-4886-a8a8-f8675d4f28e3",
   "metadata": {},
   "outputs": [],
   "source": []
  }
 ],
 "metadata": {
  "kernelspec": {
   "display_name": "MicroPython - USB",
   "language": "micropython",
   "name": "micropython"
  },
  "language_info": {
   "codemirror_mode": "python",
   "file_extension": ".py",
   "mimetype": "text/python",
   "name": "micropython"
  }
 },
 "nbformat": 4,
 "nbformat_minor": 5
}
