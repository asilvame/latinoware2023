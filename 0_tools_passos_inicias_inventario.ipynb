{
 "cells": [
  {
   "cell_type": "code",
   "execution_count": 42,
   "id": "41543afe-4083-4d3e-a79c-97ef6005b7c5",
   "metadata": {},
   "outputs": [
    {
     "name": "stdout",
     "output_type": "stream",
     "text": [
      "\u001b[34mConnecting to --port=/dev/ttyUSB4 --baud=115200 \u001b[0m\n",
      "\u001b[34mReady.\n",
      "\u001b[0m"
     ]
    }
   ],
   "source": [
    "%serialconnect to --port=/dev/ttyUSB4 --baud=115200"
   ]
  },
  {
   "cell_type": "code",
   "execution_count": 14,
   "id": "b18a6045-701e-4ca0-9117-8cdb126df24a",
   "metadata": {},
   "outputs": [
    {
     "name": "stdout",
     "output_type": "stream",
     "text": [
      "normal repl mode not detected b'\\r\\nMicroPython v1.21.0 on 2023-10-05; ESP module with ESP8266\\r\\nType \"help()\" for more information.\\r\\n>>> \\r\\n>>> \\r\\nMPY: soft rebootnetwork config: (\\'192.168.2.103\\', \\'255.255.255.0\\', \\'192.168.2.1\\', \\'192.168.2.1\\')\\r\\n'\n",
      "not command mode\n",
      "\n",
      "[\\r\\x01] b'Traceback (most recent call last):\\r\\n  File \"boot.py\", line 26, in <module>\\r\\n  File \"boot.py\", li'ne 21, in do_connect\n",
      "  File \"ssd1306.py\", line 1, in __init__\n",
      "  File \"ssd1306.py\", line 1, in __init__\n",
      "  File \"ssd1306.py\", line 1, in init_display\n",
      "KeyboardInterrupt: \n",
      "MicroPython v1.21.0 on 2023-10-05; ESP module with ESP8266\n",
      "Type \"help()\" for more information.\n",
      ">>> \n",
      ">>> \n",
      ">>> \n",
      "raw REPL; CTRL-B to exit\n",
      ">"
     ]
    }
   ],
   "source": [
    "%rebootdevice"
   ]
  },
  {
   "cell_type": "code",
   "execution_count": 43,
   "id": "0bf922c8-78e2-4733-88db-ebf9306448c7",
   "metadata": {},
   "outputs": [
    {
     "name": "stdout",
     "output_type": "stream",
     "text": [
      "\u001b[34mattempt to exit paste mode\n",
      "\u001b[0m\u001b[34m[\\r\\x03\\x02] \u001b[0mb'\\r\\nMicroPython v1.21.0 on 2023-10-05; ESP module with ESP8266\\r\\nType \"help()\" for more information.\\r\\n>>> '\u001b[34m\n",
      "Closing serial Serial<id=0x7f1cd1202350, open=True>(port='/dev/ttyUSB4', baudrate=115200, bytesize=8, parity='N', stopbits=1, timeout=0.5, xonxoff=False, rtscts=False, dsrdtr=False)\n",
      "\u001b[0m"
     ]
    }
   ],
   "source": [
    "%disconnect"
   ]
  },
  {
   "cell_type": "code",
   "execution_count": 2,
   "id": "0ee53b2f-8b00-442c-bdfd-817b44445410",
   "metadata": {},
   "outputs": [
    {
     "name": "stdout",
     "output_type": "stream",
     "text": [
      "\u001b[34m** WebSocket connected **\n",
      "\u001b[0mPassword: \n",
      "WebREPL connected\n",
      ">>> \u001b[34mReady.\n",
      "\u001b[0m"
     ]
    }
   ],
   "source": [
    "%websocketconnect --password 123456 ws://192.168.131.149:8266/"
   ]
  },
  {
   "cell_type": "code",
   "execution_count": 3,
   "id": "c6d118ff-e76b-40f9-ba30-bb5c45717100",
   "metadata": {},
   "outputs": [
    {
     "name": "stdout",
     "output_type": "stream",
     "text": [
      "'sysname' : 'esp8266', 'nodename' : 'esp8266', 'release' : '2.2.0-dev(9422289)','version' : 'v1.21.0 on 2023-10-05','machine_nm' : 'ESP module with ESP8266','machine_uid' : '7d832900','net_ip' : '192.168.131.149', 'net_mask' : '255.255.255.0','net_router' : '192.168.131.76','net_dns' : '8.8.8.8'\n"
     ]
    }
   ],
   "source": [
    "import os\n",
    "os.uname()\n",
    "#0..4 \n",
    "sysname=os.uname()[0]\n",
    "nodename=os.uname()[1]\n",
    "release=os.uname()[2]\n",
    "version=os.uname()[3]\n",
    "machine_nm=os.uname()[4]\n",
    "import machine\n",
    "import ubinascii\n",
    "#machine.unique_id()\n",
    "uid = ubinascii.hexlify(machine.unique_id()).decode('utf-8')\n",
    "import network\n",
    "sta_if = network.WLAN(network.STA_IF)\n",
    "sta_if.isconnected()\n",
    "net_ip   = sta_if.ifconfig()[0]\n",
    "net_mask = sta_if.ifconfig()[1]\n",
    "net_router = sta_if.ifconfig()[2]\n",
    "net_dns = sta_if.ifconfig()[3]\n",
    "#print(sta_if.ifconfig())\n",
    "str_inventario = \"'sysname' : '{0}', 'nodename' : '{1}', 'release' : '{2}','version' : '{3}','machine_nm' : '{4}','machine_uid' : '{5}','net_ip' : '{6}', 'net_mask' : '{7}','net_router' : '{8}','net_dns' : '{9}'\".format(sysname, nodename,release\n",
    "                                                                                                                                                             ,version,machine_nm,uid,\n",
    "                                                                                                                                                             net_ip,net_mask,net_router,net_dns)\n",
    "\n",
    "\n",
    "print(str_inventario)"
   ]
  },
  {
   "cell_type": "code",
   "execution_count": 27,
   "id": "73ebe9ce-5a59-4a72-8b59-6676ef0d5e86",
   "metadata": {},
   "outputs": [],
   "source": [
    "%disconnect"
   ]
  },
  {
   "cell_type": "code",
   "execution_count": null,
   "id": "c1fbf432-05c4-44d2-b168-6b7783e769fe",
   "metadata": {},
   "outputs": [],
   "source": []
  }
 ],
 "metadata": {
  "kernelspec": {
   "display_name": "MicroPython - USB",
   "language": "micropython",
   "name": "micropython"
  },
  "language_info": {
   "codemirror_mode": "python",
   "file_extension": ".py",
   "mimetype": "text/python",
   "name": "micropython"
  }
 },
 "nbformat": 4,
 "nbformat_minor": 5
}
