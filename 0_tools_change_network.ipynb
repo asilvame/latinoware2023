{
 "cells": [
  {
   "cell_type": "code",
   "execution_count": 13,
   "id": "f8cd5575-eab1-4edb-be87-96151f379fa2",
   "metadata": {},
   "outputs": [
    {
     "name": "stdout",
     "output_type": "stream",
     "text": [
      "\u001b[34m** WebSocket connected **\n",
      "\u001b[0mPassword: \n",
      "WebREPL connected\n",
      ">>> \u001b[34mReady.\n",
      "\u001b[0m"
     ]
    }
   ],
   "source": [
    "%websocketconnect --password 123456 ws://192.168.2.167:8266/"
   ]
  },
  {
   "cell_type": "code",
   "execution_count": 14,
   "id": "6dfa57cf-4123-4273-86d0-d346654e7915",
   "metadata": {},
   "outputs": [
    {
     "name": "stdout",
     "output_type": "stream",
     "text": [
      "Sent 2 lines (40 bytes) to net_cfg.py.\n"
     ]
    }
   ],
   "source": [
    "%sendtofile net_cfg.py\n",
    "SSID = 'MESQUITA2'\n",
    "PASSWD = 'latinoware'"
   ]
  },
  {
   "cell_type": "code",
   "execution_count": 15,
   "id": "3bfeeb10-f28e-47f3-bb42-79787bc981ca",
   "metadata": {},
   "outputs": [
    {
     "name": "stdout",
     "output_type": "stream",
     "text": [
      "\u001b[34mattempt to exit paste mode\n",
      "\u001b[0m\u001b[34m[\\r\\x03\\x02] \u001b[0m\n",
      "MicroPython v1.9.4-8-ga9a3caad0 on 2018-05-11; ESP module with ESP8266\n",
      "Type \"help()\" for more information.\n",
      ">>> \u001b[34m\n",
      "Closing websocket <websocket._core.WebSocket object at 0x7f639f7a0eb0>\n",
      "\u001b[0m"
     ]
    }
   ],
   "source": [
    "%disconnect"
   ]
  },
  {
   "cell_type": "code",
   "execution_count": null,
   "id": "60a60008-fd92-4d23-94ad-b3725e2eb458",
   "metadata": {},
   "outputs": [],
   "source": []
  }
 ],
 "metadata": {
  "kernelspec": {
   "display_name": "MicroPython - USB",
   "language": "micropython",
   "name": "micropython"
  },
  "language_info": {
   "codemirror_mode": "python",
   "file_extension": ".py",
   "mimetype": "text/python",
   "name": "micropython"
  }
 },
 "nbformat": 4,
 "nbformat_minor": 5
}
