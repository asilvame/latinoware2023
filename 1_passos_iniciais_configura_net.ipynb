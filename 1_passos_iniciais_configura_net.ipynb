{
 "cells": [
  {
   "cell_type": "code",
   "execution_count": 2,
   "id": "2237833b-6f82-42a8-8785-074e5609039c",
   "metadata": {},
   "outputs": [
    {
     "name": "stdout",
     "output_type": "stream",
     "text": [
      "\u001b[34mConnecting to --port=/dev/ttyACM1 --baud=115200 \u001b[0m\n",
      "\u001b[34mReady.\n",
      "\u001b[0m"
     ]
    }
   ],
   "source": [
    "%serialconnect to --port=/dev/ttyACM1 --baud=115200"
   ]
  },
  {
   "cell_type": "code",
   "execution_count": 36,
   "id": "035806bc-9f10-41a1-aff3-d68951b7fe64",
   "metadata": {},
   "outputs": [
    {
     "name": "stdout",
     "output_type": "stream",
     "text": [
      "# This file is executed on every boot (including wake-boot from deepsleep)\n",
      "import gc\n",
      "#import webrepl\n",
      "import net_cfg as net\n",
      "\n",
      "def do_connect(SSID,PASSWD):\n",
      "    import network\n",
      "    sta_if = network.WLAN(network.STA_IF)\n",
      "    if not sta_if.isconnected():\n",
      "        print('connecting to network...')\n",
      "        sta_if.active(True)\n",
      "        sta_if.connect(SSID,PASSWD)\n",
      "        while not sta_if.isconnected():\n",
      "            pass\n",
      "    print('network config:', sta_if.ifconfig())\n",
      "\n",
      "#do_connect(net.SSID,net.PASSWD)\n",
      "#webrepl.start()\n",
      "gc.collect()\n"
     ]
    }
   ],
   "source": [
    "f = open(\"boot.py\")\n",
    "print(f.read())\n",
    "f.close()"
   ]
  },
  {
   "cell_type": "code",
   "execution_count": 3,
   "id": "413b70f4-6b85-4241-850d-c6f3f6b17d5c",
   "metadata": {},
   "outputs": [
    {
     "name": "stdout",
     "output_type": "stream",
     "text": [
      "Sent 1 lines (15 bytes) to webrepl_cfg.py.\n"
     ]
    }
   ],
   "source": [
    "%sendtofile webrepl_cfg.py\n",
    "PASS = '123456'"
   ]
  },
  {
   "cell_type": "code",
   "execution_count": 4,
   "id": "c98f3452-989c-4da2-9cc3-45a0d7f969ae",
   "metadata": {},
   "outputs": [
    {
     "name": "stdout",
     "output_type": "stream",
     "text": [
      "Sent 2 lines (40 bytes) to net_cfg.py.\n"
     ]
    }
   ],
   "source": [
    "%sendtofile net_cfg.py\n",
    "SSID = 'MESQUITA'\n",
    "PASSWD = '@ndre102030'"
   ]
  },
  {
   "cell_type": "code",
   "execution_count": 38,
   "id": "cc88f0e3-e43a-4a6e-b3db-fd945049139c",
   "metadata": {},
   "outputs": [
    {
     "name": "stdout",
     "output_type": "stream",
     "text": [
      "Sent 19 lines (520 bytes) to boot.py.\n"
     ]
    }
   ],
   "source": [
    "%sendtofile boot.py\n",
    "# This file is executed on every boot (including wake-boot from deepsleep)\n",
    "import gc\n",
    "#import webrepl\n",
    "import net_cfg as net\n",
    "\n",
    "def do_connect(SSID,PASSWD):\n",
    "    import network\n",
    "    sta_if = network.WLAN(network.STA_IF)\n",
    "    if not sta_if.isconnected():\n",
    "        print('connecting to network...')\n",
    "        sta_if.active(True)\n",
    "        sta_if.connect(SSID,PASSWD)\n",
    "        while not sta_if.isconnected():\n",
    "            pass\n",
    "    print('network config:', sta_if.ifconfig())\n",
    "\n",
    "do_connect(net.SSID,net.PASSWD)\n",
    "#webrepl.start()\n",
    "gc.collect()"
   ]
  },
  {
   "cell_type": "code",
   "execution_count": 39,
   "id": "482b80c7-8026-4e00-8ca4-25806cfbf8f5",
   "metadata": {},
   "outputs": [
    {
     "name": "stdout",
     "output_type": "stream",
     "text": [
      "repl is in normal command mode\n",
      "[\\r\\x03\\x03] b'\\r\\nMicroPython v1.20.0 on 2023-04-26; LOLIN_S2_MINI with ESP32-S2FN4R2\\r\\nType \"help()\" for more information.\\r\\n>>> \\r\\n>>> \\r\\nMPY: soft reboot\\r\\nconnecting to network...\\r\\nTraceback (most recent call last):\\r\\n  File \"boot.py\", line 17, in <module>\\r\\n  File \"boot.py\", line 14, in do_connect\\r\\nKeyboardInterrupt: \\r\\nMicroPython v1.20.0 on 2023-04-26; LOLIN_S2_MINI with ESP32-S2FN4R2\\r\\nType \"help()\" for more information.\\r\\n>>> \\r\\n>>> '\n",
      ">>> \n",
      "raw REPL; CTRL-B to exit\n",
      ">"
     ]
    }
   ],
   "source": [
    "%rebootdevice"
   ]
  },
  {
   "cell_type": "code",
   "execution_count": 3,
   "id": "57930317-60c5-40fb-a9f4-243156f0563d",
   "metadata": {},
   "outputs": [
    {
     "name": "stdout",
     "output_type": "stream",
     "text": [
      "('192.168.2.125', '255.255.255.0', '192.168.2.1', '192.168.2.1')\n"
     ]
    }
   ],
   "source": [
    "import network\n",
    "sta_if = network.WLAN(network.STA_IF)\n",
    "sta_if.isconnected()\n",
    "print(sta_if.ifconfig())"
   ]
  },
  {
   "cell_type": "code",
   "execution_count": 4,
   "id": "533de336-43c6-48fb-a24e-f35faa0c4d09",
   "metadata": {},
   "outputs": [
    {
     "name": "stdout",
     "output_type": "stream",
     "text": [
      "WebREPL server started on http://192.168.2.125:8266/\n",
      "Started webrepl in normal mode\n"
     ]
    }
   ],
   "source": [
    "import webrepl\n",
    "webrepl.start()"
   ]
  },
  {
   "cell_type": "code",
   "execution_count": 14,
   "id": "5d51a481-aecf-4fa6-a650-8be15db54a24",
   "metadata": {},
   "outputs": [
    {
     "name": "stdout",
     "output_type": "stream",
     "text": [
      "\u001b[34mattempt to exit paste mode\n",
      "\u001b[0m\u001b[34m[\\r\\x03\\x02] \u001b[0m\n",
      "MicroPython v1.20.0 on 2023-04-26; LOLIN_S2_MINI with ESP32-S2FN4R2\n",
      "Type \"help()\" for more information.\n",
      ">>> \u001b[34m\n",
      "Closing websocket <websocket._core.WebSocket object at 0x7f23b47a0e20>\n",
      "\u001b[0m"
     ]
    }
   ],
   "source": [
    "%disconnect"
   ]
  },
  {
   "cell_type": "code",
   "execution_count": 6,
   "id": "e38ec8ea-4ea8-40ad-be2f-12b408555d63",
   "metadata": {},
   "outputs": [
    {
     "name": "stdout",
     "output_type": "stream",
     "text": [
      "\u001b[34m** WebSocket connected **\n",
      "\u001b[0mPassword: \n",
      "WebREPL connected\n",
      ">>> \u001b[34mReady.\n",
      "\u001b[0m"
     ]
    }
   ],
   "source": [
    "%websocketconnect --password 123456 ws://192.168.2.125:8266/"
   ]
  },
  {
   "cell_type": "code",
   "execution_count": 7,
   "id": "40702e94-7045-437e-954f-ebc9a997486c",
   "metadata": {},
   "outputs": [],
   "source": [
    "#https://randomnerdtutorials.com/micropython-mqtt-esp32-esp8266/\n",
    "#https://mjrobot.org/2018/06/13/iot-feito-facil-esp-micropython-mqtt-thingspeak/\n",
    "import time\n",
    "import ubinascii\n",
    "import machine\n",
    "from umqttsimple import MQTTClient"
   ]
  },
  {
   "cell_type": "code",
   "execution_count": 13,
   "id": "6a767cf9-6464-42fb-9d96-61846455479d",
   "metadata": {},
   "outputs": [],
   "source": [
    "mqtt_server = '192.168.2.150'\n",
    "#EXAMPLE IP ADDRESS\n",
    "#mqtt_server = '192.168.1.144'\n",
    "client_id = ubinascii.hexlify(machine.unique_id())\n",
    "topic_sub = b'tele/calangodoor/SENSOR'\n",
    "topic_pub = b'hello'\n",
    "msg =\"oi\"\n",
    "last_message = 0\n",
    "message_interval = 5\n",
    "counter = 0\n",
    "\n",
    "client = MQTTClient(client_id, mqtt_server)\n",
    "client.connect()\n",
    "client.publish(topic_pub, msg)"
   ]
  },
  {
   "cell_type": "code",
   "execution_count": null,
   "id": "46806268-52e5-4083-a4f5-689201ad5bb8",
   "metadata": {},
   "outputs": [],
   "source": [
    "%disconnect"
   ]
  }
 ],
 "metadata": {
  "kernelspec": {
   "display_name": "MicroPython - USB",
   "language": "micropython",
   "name": "micropython"
  },
  "language_info": {
   "codemirror_mode": "python",
   "file_extension": ".py",
   "mimetype": "text/python",
   "name": "micropython"
  }
 },
 "nbformat": 4,
 "nbformat_minor": 5
}
