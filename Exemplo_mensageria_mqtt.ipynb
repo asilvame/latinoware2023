{
 "cells": [
  {
   "cell_type": "code",
   "execution_count": 1,
   "id": "74f2c875-cbc9-45b4-8e2a-0d42e5e5081f",
   "metadata": {},
   "outputs": [
    {
     "name": "stdout",
     "output_type": "stream",
     "text": [
      "\u001b[34mConnecting to --port=/dev/ttyUSB1 --baud=115200 \u001b[0m\n",
      "\u001b[34mReady.\n",
      "\u001b[0m"
     ]
    }
   ],
   "source": [
    "%serialconnect to --port=/dev/ttyUSB1 --baud=115200"
   ]
  },
  {
   "cell_type": "code",
   "execution_count": 2,
   "id": "41ca1386-6cb2-429e-b074-c87b63384076",
   "metadata": {},
   "outputs": [
    {
     "name": "stdout",
     "output_type": "stream",
     "text": [
      "('192.168.2.103', '255.255.255.0', '192.168.2.1', '192.168.2.1')\n"
     ]
    }
   ],
   "source": [
    "import network\n",
    "sta_if = network.WLAN(network.STA_IF)\n",
    "sta_if.isconnected()\n",
    "print(sta_if.ifconfig())"
   ]
  },
  {
   "cell_type": "code",
   "execution_count": 13,
   "id": "5096eae8-c99d-4dbc-a61f-4b1d5ab4a89f",
   "metadata": {},
   "outputs": [
    {
     "name": "stdout",
     "output_type": "stream",
     "text": [
      "['boot.py', 'credenciais_telegram.txt', 'lib', 'net_cfg.py', 'netutil.py', 'test_btn.py', 'test_telegram.py', 'umqttsimple.py', 'upysh.py', 'webrepl_cfg.py']\n"
     ]
    }
   ],
   "source": [
    "import os\n",
    "print(os.listdir())"
   ]
  },
  {
   "cell_type": "code",
   "execution_count": 3,
   "id": "e678b4af-6267-45cf-9070-2b68cc45e9ad",
   "metadata": {},
   "outputs": [],
   "source": [
    "#https://randomnerdtutorials.com/micropython-mqtt-esp32-esp8266/\n",
    "#https://mjrobot.org/2018/06/13/iot-feito-facil-esp-micropython-mqtt-thingspeak/\n",
    "import time\n",
    "import ubinascii\n",
    "import machine\n",
    "from umqttsimple import MQTTClient"
   ]
  },
  {
   "cell_type": "code",
   "execution_count": 7,
   "id": "4a0440e3-5c3f-4201-8004-d9a104196ffd",
   "metadata": {},
   "outputs": [],
   "source": [
    "mqtt_server = '192.168.2.150'\n",
    "#EXAMPLE IP ADDRESS\n",
    "#mqtt_server = '192.168.1.144'\n",
    "client_id = ubinascii.hexlify(machine.unique_id())\n",
    "topic_sub = b'tele/cango_server/SENSOR'\n",
    "topic_pub = b'hello'\n",
    "msg =\"oi\"\n",
    "last_message = 0\n",
    "message_interval = 5\n",
    "counter = 0\n",
    "\n",
    "client = MQTTClient(client_id, mqtt_server)\n",
    "client.connect()\n",
    "client.publish(topic_pub, msg)"
   ]
  },
  {
   "cell_type": "code",
   "execution_count": 12,
   "id": "e7e00ca3-cdb5-4e5f-bcbc-4f63023eaa09",
   "metadata": {},
   "outputs": [
    {
     "name": "stdout",
     "output_type": "stream",
     "text": [
      "Connected to 192.168.2.150 MQTT broker, subscribed to b'tele/cango_server/SENSOR' topic\n",
      "............\u001b[34m\n",
      "\n",
      "*** Sending Ctrl-C\n",
      "\n",
      "\u001b[0m"
     ]
    },
    {
     "name": "stderr",
     "output_type": "stream",
     "text": [
      "Traceback (most recent call last):\n",
      "  File \"<stdin>\", line 30, in <module>\n",
      "KeyboardInterrupt: \n"
     ]
    }
   ],
   "source": [
    "# Complete project details at https://RandomNerdTutorials.com\n",
    "\n",
    "def sub_cb(topic, msg):\n",
    "  print((topic, msg))\n",
    "  if topic == b'notification' and msg == b'received':\n",
    "    print('ESP received hello message')\n",
    "\n",
    "def connect_and_subscribe():\n",
    "  global client_id, mqtt_server, topic_sub\n",
    "  client = MQTTClient(client_id, mqtt_server)\n",
    "  client.set_callback(sub_cb)\n",
    "  client.connect()\n",
    "  client.subscribe(topic_sub)\n",
    "  print('Connected to %s MQTT broker, subscribed to %s topic' % (mqtt_server, topic_sub))\n",
    "  return client\n",
    "\n",
    "def restart_and_reconnect():\n",
    "  print('Failed to connect to MQTT broker. Reconnecting...')\n",
    "  #time.sleep(10)\n",
    "  #machine.reset()\n",
    "\n",
    "try:\n",
    "  client = connect_and_subscribe()\n",
    "except OSError as e:\n",
    "  restart_and_reconnect()\n",
    "    \n",
    "client.check_msg() \n",
    "while True:\n",
    "  try:\n",
    "    client.check_msg()\n",
    "#    if (time.time() - last_message) > message_interval:\n",
    "#      msg = b'Hello #%d' % counter\n",
    "#      client.publish(topic_pub, msg)\n",
    "#      last_message = time.time()\n",
    "#      counter += 1\n",
    "  except OSError as e:\n",
    "    pass\n",
    "    #restart_and_reconnect()"
   ]
  },
  {
   "cell_type": "code",
   "execution_count": null,
   "id": "18d5ac23-51aa-4248-928d-7b92e9f40feb",
   "metadata": {},
   "outputs": [],
   "source": []
  },
  {
   "cell_type": "code",
   "execution_count": null,
   "id": "a1620a0c-6a8c-4ff9-82a9-bcb8c748127f",
   "metadata": {},
   "outputs": [],
   "source": []
  }
 ],
 "metadata": {
  "kernelspec": {
   "display_name": "MicroPython - USB",
   "language": "micropython",
   "name": "micropython"
  },
  "language_info": {
   "codemirror_mode": "python",
   "file_extension": ".py",
   "mimetype": "text/python",
   "name": "micropython"
  }
 },
 "nbformat": 4,
 "nbformat_minor": 5
}
