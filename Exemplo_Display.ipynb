{
 "cells": [
  {
   "cell_type": "code",
   "execution_count": null,
   "id": "3fac8670-7099-4972-b4b0-edcb7d33b78f",
   "metadata": {},
   "outputs": [],
   "source": [
    "%websocketconnect --password 123456 ws://192.168.131.149:8266/"
   ]
  },
  {
   "cell_type": "code",
   "execution_count": null,
   "id": "1b3bbe89-f5b4-44da-81b5-94f5e2650797",
   "metadata": {},
   "outputs": [],
   "source": [
    "%serialconnect to --port=/dev/ttyUSB1 --baud=115200"
   ]
  },
  {
   "cell_type": "code",
   "execution_count": null,
   "id": "5727feb6-85ba-4002-a617-ee1b7ee9d281",
   "metadata": {},
   "outputs": [],
   "source": [
    "import machine\n",
    "import time\n",
    "D1 = machine.Pin(5,machine.Pin.OUT)\n",
    "D2 = machine.Pin(4,machine.Pin.OUT)\n",
    "from machine import Pin, I2C\n",
    "import ssd1306\n",
    "i2c = I2C(sda=D2, scl=D1)\n",
    "display = ssd1306.SSD1306_I2C(128, 64, i2c)\n",
    "display.poweron()\n",
    "display.text(sta_if.ifconfig()[0], 0, 0, 1)\n",
    "display.show()"
   ]
  }
 ],
 "metadata": {
  "kernelspec": {
   "display_name": "MicroPython - USB",
   "language": "micropython",
   "name": "micropython"
  },
  "language_info": {
   "name": ""
  }
 },
 "nbformat": 4,
 "nbformat_minor": 5
}
